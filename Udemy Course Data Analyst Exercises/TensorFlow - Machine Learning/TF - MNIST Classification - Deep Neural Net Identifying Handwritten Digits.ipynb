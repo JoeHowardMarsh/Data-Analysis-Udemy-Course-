{
 "cells": [
  {
   "cell_type": "markdown",
   "metadata": {},
   "source": [
    "## Deep Neural Network for MNIST Classification"
   ]
  },
  {
   "cell_type": "markdown",
   "metadata": {},
   "source": [
    "##### Goal is to write an algorithm that detects handwritten digits\n",
    "##### Since there are 10 digits, the classification problem will have 10 classes\n",
    "##### Our goal will be to build a neural network with 2 hidden layers"
   ]
  },
  {
   "cell_type": "code",
   "execution_count": 1,
   "metadata": {},
   "outputs": [],
   "source": [
    "import numpy as np\n",
    "import tensorflow as tf\n",
    "import tensorflow_datasets as tfds\n",
    "\n",
    "# Numpy library has functions used for working with arrays and matrices\n",
    "# faster, clearer and better quality code using Numpy\n",
    "\n",
    "# Tensorflow is an open-source Machine Learning library, particular focus on training and inference of deep neural networks\n",
    "\n",
    "# TensorFlow Datasets is a collection of datasets ready to use with TensorFlow"
   ]
  },
  {
   "cell_type": "markdown",
   "metadata": {},
   "source": [
    "### Loading and Pre-Processing the data"
   ]
  },
  {
   "cell_type": "code",
   "execution_count": 2,
   "metadata": {},
   "outputs": [],
   "source": [
    "mnist_dataset, mnist_info = tfds.load(name='mnist', with_info=True, as_supervised=True)\n",
    "\n",
    "# 'as_supervised' loads the data in a 2-tuple structure (input and target)\n",
    "# 'with_info' provides a tuple containing info about the version, features and number of samples of the dataset\n",
    "\n",
    "mnist_train, mnist_test = mnist_dataset['train'], mnist_dataset['test']\n",
    "\n",
    "# by default Tensorflow's mnist has training and testing datasets but no validation datasets so we have to split data ourselves\n",
    "\n",
    "num_validation_samples = 0.1 * mnist_info.splits['train'].num_examples\n",
    "num_validation_samples = tf.cast(num_validation_samples, tf.int64)\n",
    "\n",
    "# creates validation dataset by the number of training samples divided by 10\n",
    "# tf.cast(x, datatype) converts the variable into a given data type to make sure validation dataset is an intager\n",
    "# preventing any issues caused by floats\n",
    "\n",
    "num_test_samples = mnist_info.splits['test'].num_examples\n",
    "num_test_samples = tf.cast(num_test_samples, tf.int64)\n",
    "\n",
    "# stores the number of test samples in a variable\n",
    "\n",
    "def scale(image, label):\n",
    "    image = tf.cast(image, tf.float32)\n",
    "    image /= 255.\n",
    "    return image, label\n",
    "\n",
    "# this function scales the data to make the result more numerically stable (e.g. inputs between 0 and 1)\n",
    "# on images, the matrix is made of intagers between 0 and 255, so we should convert this to floats between 0 and 1\n",
    "\n",
    "scaled_train_and_validation_data = mnist_train.map(scale)\n",
    "\n",
    "# this scales the whole train dataset\n",
    "# dataset.map(function) applies a custom transformation to a given dataset.\n",
    "# It takes a function which determines the transformation as input\n",
    "\n",
    "test_data = mnist_test.map(scale)\n",
    "# also scaling the test dataset"
   ]
  },
  {
   "cell_type": "markdown",
   "metadata": {},
   "source": [
    "### Shuffle the data"
   ]
  },
  {
   "cell_type": "code",
   "execution_count": 3,
   "metadata": {},
   "outputs": [],
   "source": [
    "BUFFER_SIZE = 10000\n",
    "# shuffling should be set to >= number of samples to happen uniformly\n",
    "\n",
    "shuffled_train_and_validation_data = scaled_train_and_validation_data.shuffle(BUFFER_SIZE)\n",
    "\n",
    "# shuffling the data\n",
    "\n",
    "validation_data = shuffled_train_and_validation_data.take(num_validation_samples)\n",
    "train_data = shuffled_train_and_validation_data.skip(num_validation_samples)\n",
    "\n",
    "# batch size of 1 = Stochastic Gradient Descent (SGD)\n",
    "# batch size of # of samples = (single batch) GD\n",
    "# we want a batch size >1 but < # samples = mini-batch GD\n",
    "# Increasing batch size will increase completion speed but largely decrease accuracy of model\n",
    "\n",
    "BATCH_SIZE = 100\n",
    "train_data = train_data.batch(BATCH_SIZE)\n",
    "test_data = mnist_test.map(scale)\n",
    "\n",
    "# this combines the consecutive elements of the dataset into batches\n",
    "\n",
    "validation_data = validation_data.batch(num_validation_samples)\n",
    "\n",
    "# the model expects the validation dataset to be in batch-form too so we should override validation data with .batch\n",
    "\n",
    "test_data = test_data.batch(num_test_samples)\n",
    "\n",
    "# same with the test data\n",
    "\n",
    "validation_inputs, validation_targets = next(iter(validation_data))\n",
    "# the function 'iter' creates an object which can be iterated one element at a time in a loop\n",
    "# 'next' loads the next batch (next element of an iterable object)"
   ]
  },
  {
   "cell_type": "markdown",
   "metadata": {},
   "source": [
    "### Model - outline the model"
   ]
  },
  {
   "cell_type": "code",
   "execution_count": 4,
   "metadata": {},
   "outputs": [],
   "source": [
    "input_size = 784\n",
    "output_size = 10\n",
    "hidden_layer_size = 200\n",
    "\n",
    "# there are 784 inputs, 10 output nodes\n",
    "\n",
    "model = tf.keras.Sequential([\n",
    "    tf.keras.layers.Flatten(input_shape=(28, 28, 1)),\n",
    "    tf.keras.layers.Dense(hidden_layer_size, activation='relu'),\n",
    "    tf.keras.layers.Dense(hidden_layer_size, activation='tanh'),\n",
    "    tf.keras.layers.Dense(hidden_layer_size, activation='sigmoid'),\n",
    "    tf.keras.layers.Dense(hidden_layer_size, activation='sigmoid'),\n",
    "    tf.keras.layers.Dense(hidden_layer_size, activation='sigmoid'),\n",
    "    tf.keras.layers.Dense(output_size, activation='softmax'),\n",
    "])\n",
    "\n",
    "# the keras.sequential function is laying down the model used to stack layers\n",
    "# the keras.layers.Flatten function transforms a tensor into a vector (3D to 2D)\n",
    "# the keras.layers.Dense function takes inputs and finds the Dot product of inputs and weights and adds the bias\n",
    "# we also apply the activation function here"
   ]
  },
  {
   "cell_type": "markdown",
   "metadata": {},
   "source": [
    "### Choose the optimizer and Function Loss"
   ]
  },
  {
   "cell_type": "code",
   "execution_count": 5,
   "metadata": {},
   "outputs": [],
   "source": [
    "model.compile(optimizer='adam', loss='sparse_categorical_crossentropy', metrics=['accuracy'])\n",
    "\n",
    "# categorical_crossentropy expects that you've one-hot encoded the target data already\n",
    "# sparse_categorical_crossentropy applies the one-hot encoding\n",
    "# the 3rd argument includes the accuracy we want to measure throughout the training and testing processes"
   ]
  },
  {
   "cell_type": "markdown",
   "metadata": {},
   "source": [
    "### Training"
   ]
  },
  {
   "cell_type": "code",
   "execution_count": 6,
   "metadata": {},
   "outputs": [
    {
     "name": "stdout",
     "output_type": "stream",
     "text": [
      "Epoch 1/5\n",
      "540/540 - 6s - loss: 0.4985 - accuracy: 0.8570 - val_loss: 0.1568 - val_accuracy: 0.9553\n",
      "Epoch 2/5\n",
      "540/540 - 4s - loss: 0.1328 - accuracy: 0.9626 - val_loss: 0.0997 - val_accuracy: 0.9710\n",
      "Epoch 3/5\n",
      "540/540 - 4s - loss: 0.0886 - accuracy: 0.9740 - val_loss: 0.0727 - val_accuracy: 0.9783\n",
      "Epoch 4/5\n",
      "540/540 - 4s - loss: 0.0697 - accuracy: 0.9793 - val_loss: 0.0800 - val_accuracy: 0.9785\n",
      "Epoch 5/5\n",
      "540/540 - 4s - loss: 0.0538 - accuracy: 0.9842 - val_loss: 0.0595 - val_accuracy: 0.9810\n"
     ]
    },
    {
     "data": {
      "text/plain": [
       "<tensorflow.python.keras.callbacks.History at 0x2348cf22be0>"
      ]
     },
     "execution_count": 6,
     "metadata": {},
     "output_type": "execute_result"
    }
   ],
   "source": [
    "num_epochs = 5\n",
    "model.fit(train_data, epochs = num_epochs, validation_data=(validation_inputs, validation_targets), verbose=2)\n",
    "\n",
    "# provide the model with the set number of epochs (iterations), validation inputs and targets,\n",
    "# fit the model to the data\n",
    "# set verbose to 2 to only include important info from each epoch"
   ]
  },
  {
   "cell_type": "code",
   "execution_count": 7,
   "metadata": {},
   "outputs": [],
   "source": [
    "# the training accuracy is just the average accuracy across batches whereas validation accuracy is of the whole validation set\n",
    "# the validation accuracy at the end of the last epoch is the True accuracy of the validation dataset.\n",
    "\n",
    "# this isn't the full accuracy of the model as we haven't tested the forward propagation of the test dataset\n",
    "# this is because we may be overfitting the validation dataset by fiddling with the hyperparameters\n",
    "# the test dataset makes sure our hyperparameters (width, depth, batch size, # epochs etc) don't overfit!,\n",
    "# as the model hasn't seen this data yet"
   ]
  },
  {
   "cell_type": "markdown",
   "metadata": {},
   "source": [
    "### Test the Model"
   ]
  },
  {
   "cell_type": "code",
   "execution_count": 8,
   "metadata": {},
   "outputs": [
    {
     "name": "stdout",
     "output_type": "stream",
     "text": [
      "1/1 [==============================] - 1s 732ms/step - loss: 0.1019 - accuracy: 0.9716\n"
     ]
    }
   ],
   "source": [
    "test_loss, test_accuracy = model.evaluate(test_data)"
   ]
  },
  {
   "cell_type": "code",
   "execution_count": 9,
   "metadata": {},
   "outputs": [
    {
     "name": "stdout",
     "output_type": "stream",
     "text": [
      "Test loss: 0.10. Test accuracy: 97.16%\n"
     ]
    }
   ],
   "source": [
    "# format to make it appear neater and easier to read\n",
    "print('Test loss: {0:.2f}. Test accuracy: {1:.2f}%'.format(test_loss, test_accuracy*100.))"
   ]
  },
  {
   "cell_type": "markdown",
   "metadata": {},
   "source": [
    "#### after running the final test for the model, we're no longer allowed to change it as...\n",
    "#### ... if it is changed it will no longer be a dataset the model has never seen"
   ]
  },
  {
   "cell_type": "markdown",
   "metadata": {},
   "source": [
    "### Getting a test accuracy very close to the validation accuracy shows that we have not overfit!\n",
    "### this accuracy is the accuracy expected to get if we test the model in the real world."
   ]
  }
 ],
 "metadata": {
  "kernelspec": {
   "display_name": "Python [conda env:py3-TF2.0]",
   "language": "python",
   "name": "conda-env-py3-TF2.0-py"
  },
  "language_info": {
   "codemirror_mode": {
    "name": "ipython",
    "version": 3
   },
   "file_extension": ".py",
   "mimetype": "text/x-python",
   "name": "python",
   "nbconvert_exporter": "python",
   "pygments_lexer": "ipython3",
   "version": "3.8.5"
  }
 },
 "nbformat": 4,
 "nbformat_minor": 4
}
