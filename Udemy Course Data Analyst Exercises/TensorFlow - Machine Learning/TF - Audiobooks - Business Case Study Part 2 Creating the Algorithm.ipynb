{
 "cells": [
  {
   "cell_type": "code",
   "execution_count": 2,
   "metadata": {},
   "outputs": [],
   "source": [
    "import numpy as np\n",
    "import tensorflow as tf\n",
    "\n",
    "\n",
    "# Numpy library has functions used for working with arrays and matrices\n",
    "# faster, clearer and better quality code using Numpy\n",
    "\n",
    "# Tensorflow is an open-source Machine Learning library, particular focus on training and inference of deep neural networks"
   ]
  },
  {
   "cell_type": "code",
   "execution_count": 3,
   "metadata": {},
   "outputs": [],
   "source": [
    "npz = np.load('Audiobooks_data_train.npz')\n",
    "\n",
    "# importing the train data\n",
    "\n",
    "train_inputs = npz['inputs'].astype(np.float)\n",
    "train_targets = npz['targets'].astype(np.int)\n",
    "\n",
    "# we expect all inputs to be floats so we specify 'np.ndarray.astype()' to create a copy of the array\n",
    "\n",
    "npz = np.load('Audiobooks_data_validation.npz')\n",
    "validation_inputs, validation_targets = npz['inputs'].astype(np.float), npz['targets'].astype(np.int)\n",
    "\n",
    "npz = np.load('Audiobooks_data_test.npz')\n",
    "test_inputs, test_targets = npz['inputs'].astype(np.float), npz['targets'].astype(np.int)\n",
    "\n",
    "# importing the validation and test data, now are in the form of a simple array"
   ]
  },
  {
   "cell_type": "markdown",
   "metadata": {},
   "source": [
    "## Creating the Model\n",
    "##### Outline optimizers, loss, early stopping and training"
   ]
  },
  {
   "cell_type": "code",
   "execution_count": 6,
   "metadata": {},
   "outputs": [
    {
     "name": "stdout",
     "output_type": "stream",
     "text": [
      "Epoch 1/100\n",
      "36/36 - 1s - loss: 0.6322 - accuracy: 0.6410 - val_loss: 0.5419 - val_accuracy: 0.7293\n",
      "Epoch 2/100\n",
      "36/36 - 0s - loss: 0.4853 - accuracy: 0.7608 - val_loss: 0.4511 - val_accuracy: 0.7539\n",
      "Epoch 3/100\n",
      "36/36 - 0s - loss: 0.4223 - accuracy: 0.7768 - val_loss: 0.4141 - val_accuracy: 0.7852\n",
      "Epoch 4/100\n",
      "36/36 - 0s - loss: 0.3954 - accuracy: 0.7902 - val_loss: 0.3968 - val_accuracy: 0.7740\n",
      "Epoch 5/100\n",
      "36/36 - 0s - loss: 0.3756 - accuracy: 0.8011 - val_loss: 0.3837 - val_accuracy: 0.7919\n",
      "Epoch 6/100\n",
      "36/36 - 0s - loss: 0.3675 - accuracy: 0.8008 - val_loss: 0.3787 - val_accuracy: 0.7785\n",
      "Epoch 7/100\n",
      "36/36 - 0s - loss: 0.3587 - accuracy: 0.8097 - val_loss: 0.3754 - val_accuracy: 0.7696\n",
      "Epoch 8/100\n",
      "36/36 - 0s - loss: 0.3513 - accuracy: 0.8125 - val_loss: 0.3698 - val_accuracy: 0.7785\n",
      "Epoch 9/100\n",
      "36/36 - 0s - loss: 0.3457 - accuracy: 0.8164 - val_loss: 0.3686 - val_accuracy: 0.7763\n",
      "Epoch 10/100\n",
      "36/36 - 0s - loss: 0.3418 - accuracy: 0.8181 - val_loss: 0.3655 - val_accuracy: 0.7718\n",
      "Epoch 11/100\n",
      "36/36 - 0s - loss: 0.3374 - accuracy: 0.8248 - val_loss: 0.3635 - val_accuracy: 0.7919\n",
      "Epoch 12/100\n",
      "36/36 - 0s - loss: 0.3363 - accuracy: 0.8215 - val_loss: 0.3607 - val_accuracy: 0.7897\n",
      "Epoch 13/100\n",
      "36/36 - 0s - loss: 0.3338 - accuracy: 0.8217 - val_loss: 0.3672 - val_accuracy: 0.7785\n",
      "Epoch 14/100\n",
      "36/36 - 0s - loss: 0.3315 - accuracy: 0.8192 - val_loss: 0.3617 - val_accuracy: 0.7808\n"
     ]
    },
    {
     "data": {
      "text/plain": [
       "<tensorflow.python.keras.callbacks.History at 0x1e561840b80>"
      ]
     },
     "execution_count": 6,
     "metadata": {},
     "output_type": "execute_result"
    }
   ],
   "source": [
    "input_size = 10\n",
    "output_size = 2\n",
    "hidden_layer_size = 50\n",
    "\n",
    "model = tf.keras.Sequential([\n",
    "                            tf.keras.layers.Dense(hidden_layer_size, activation = 'relu'),\n",
    "                            tf.keras.layers.Dense(hidden_layer_size, activation = 'relu'),\n",
    "                            tf.keras.layers.Dense(output_size, activation = 'softmax'),\n",
    "                            ])\n",
    "\n",
    "# 10 predictors, 2 outputs (0s and 1s)\n",
    "# the keras.sequential function is laying down the model used to stack layers\n",
    "# no need to use 'flatten' method as the data is already 2D\n",
    "# the keras.layers.Dense function takes inputs and finds the Dot product of inputs and weights and adds the bias\n",
    "# we also apply the activation function here ('softmax' is used as the model is a classifier)\n",
    "\n",
    "model.compile(optimizer='adam', loss='sparse_categorical_crossentropy', metrics=['accuracy'])\n",
    "\n",
    "# categorical_crossentropy expects that you've one-hot encoded the target data already\n",
    "# one-hot encoding converts categorical data into numbers so they can be computed\n",
    "# sparse_categorical_crossentropy applies the one-hot encoding\n",
    "# the 3rd argument includes the accuracy we want to measure throughout the training and testing processes\n",
    "\n",
    "batch_size = 100\n",
    "max_epochs = 100\n",
    "\n",
    "early_stopping = tf.keras.callbacks.EarlyStopping(patience=2)\n",
    "\n",
    "# this object will monitor the validation loss and stop the training process the first time the validation loss starts increasing\n",
    "# the early stopping mechanism decides how many consecutive increases can be tolerated\n",
    "# the 'patience' allows for specifying the number of epochs after no improvement of validation loss\n",
    "# now we can be certain when the model starts to overfit (as a single increase may be due to chance)\n",
    "\n",
    "model.fit(train_inputs,\n",
    "         train_targets,\n",
    "         batch_size = batch_size,\n",
    "         epochs = max_epochs,\n",
    "         callbacks=[early_stopping],\n",
    "         validation_data = (validation_inputs, validation_targets),\n",
    "         verbose=2)\n",
    "\n",
    "# feed a 2-tuple object, or 2 simple arrays into the model (train_inputs and train_targets), the batch size,\n",
    "# the maximum number of epochs and a new variable validation_data which contains the validation inputs and targets\n",
    "# also includes the early stopping mechanism to prevent overfitting"
   ]
  },
  {
   "cell_type": "markdown",
   "metadata": {},
   "source": [
    "##### if we're given 10 customers and their audiobook activity, we will be able to identify future customer bevahiour of around 8 of them\n",
    "###### as our validation accuracy is around 80% (78)\n",
    "###### We have leveraged AI to reach a business insight!"
   ]
  },
  {
   "cell_type": "markdown",
   "metadata": {},
   "source": [
    "### Test the Model"
   ]
  },
  {
   "cell_type": "code",
   "execution_count": 7,
   "metadata": {},
   "outputs": [
    {
     "name": "stdout",
     "output_type": "stream",
     "text": [
      "14/14 [==============================] - 0s 1ms/step - loss: 0.3439 - accuracy: 0.8013\n"
     ]
    }
   ],
   "source": [
    "test_loss, test_accuracy = model.evaluate(test_inputs, test_targets)\n",
    "\n",
    "# model.evaluate() returns the loss value and metrics (accuracy) values for the model in 'test mode'"
   ]
  },
  {
   "cell_type": "code",
   "execution_count": 8,
   "metadata": {},
   "outputs": [
    {
     "name": "stdout",
     "output_type": "stream",
     "text": [
      "Test loss: 0.34. Test accuracy: 80.13%\n"
     ]
    }
   ],
   "source": [
    "print('Test loss: {0:.2f}. Test accuracy: {1:.2f}%'.format(test_loss, test_accuracy*100.))\n",
    "\n",
    "# formatted to appear neat and tidy"
   ]
  },
  {
   "cell_type": "markdown",
   "metadata": {},
   "source": [
    "##### Test accuracy is close to the validation accuracy as we didn't manipulate the hyperparameters too much"
   ]
  }
 ],
 "metadata": {
  "kernelspec": {
   "display_name": "Python [conda env:py3-TF2.0]",
   "language": "python",
   "name": "conda-env-py3-TF2.0-py"
  },
  "language_info": {
   "codemirror_mode": {
    "name": "ipython",
    "version": 3
   },
   "file_extension": ".py",
   "mimetype": "text/x-python",
   "name": "python",
   "nbconvert_exporter": "python",
   "pygments_lexer": "ipython3",
   "version": "3.8.5"
  }
 },
 "nbformat": 4,
 "nbformat_minor": 4
}
