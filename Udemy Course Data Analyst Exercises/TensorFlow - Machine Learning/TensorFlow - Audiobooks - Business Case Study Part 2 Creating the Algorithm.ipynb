{
 "cells": [
  {
   "cell_type": "code",
   "execution_count": 1,
   "metadata": {},
   "outputs": [],
   "source": [
    "import numpy as np\n",
    "import tensorflow as tf"
   ]
  },
  {
   "cell_type": "code",
   "execution_count": 2,
   "metadata": {},
   "outputs": [],
   "source": [
    "npz = np.load('Audiobooks_data_train.npz')\n",
    "\n",
    "train_inputs = npz['inputs'].astype(np.float)\n",
    "train_targets = npz['targets'].astype(np.int)\n",
    "# we expect all inputs to be floats so we specify 'np.ndarray.astype()' to create a copy of the array, cast to a specific type\n",
    "\n",
    "npz = np.load('Audiobooks_data_validation.npz')\n",
    "validation_inputs, validation_targets = npz['inputs'].astype(np.float), npz['targets'].astype(np.int)\n",
    "\n",
    "npz = np.load('Audiobooks_data_test.npz')\n",
    "test_inputs, test_targets = npz['inputs'].astype(np.float), npz['targets'].astype(np.int)"
   ]
  },
  {
   "cell_type": "markdown",
   "metadata": {},
   "source": [
    "### Model\n",
    "##### Outline optimizers, loss, early stopping and training"
   ]
  },
  {
   "cell_type": "code",
   "execution_count": 3,
   "metadata": {},
   "outputs": [
    {
     "name": "stdout",
     "output_type": "stream",
     "text": [
      "Epoch 1/100\n",
      "36/36 - 2s - loss: 0.5274 - accuracy: 0.7175 - val_loss: 0.4609 - val_accuracy: 0.7494\n",
      "Epoch 2/100\n",
      "36/36 - 0s - loss: 0.4360 - accuracy: 0.7723 - val_loss: 0.4174 - val_accuracy: 0.7919\n",
      "Epoch 3/100\n",
      "36/36 - 0s - loss: 0.4026 - accuracy: 0.7846 - val_loss: 0.3939 - val_accuracy: 0.8143\n",
      "Epoch 4/100\n",
      "36/36 - 0s - loss: 0.3816 - accuracy: 0.7927 - val_loss: 0.3772 - val_accuracy: 0.8143\n",
      "Epoch 5/100\n",
      "36/36 - 0s - loss: 0.3713 - accuracy: 0.8013 - val_loss: 0.3649 - val_accuracy: 0.8009\n",
      "Epoch 6/100\n",
      "36/36 - 0s - loss: 0.3597 - accuracy: 0.8094 - val_loss: 0.3659 - val_accuracy: 0.8143\n"
     ]
    },
    {
     "data": {
      "text/plain": [
       "<tensorflow.python.keras.callbacks.History at 0x161c0656c40>"
      ]
     },
     "execution_count": 3,
     "metadata": {},
     "output_type": "execute_result"
    }
   ],
   "source": [
    "input_size = 10\n",
    "# 10 predictors\n",
    "\n",
    "output_size = 2\n",
    "# 2 outputs (0s and 1s)\n",
    "\n",
    "hidden_layer_size = 50\n",
    "\n",
    "model = tf.keras.Sequential([\n",
    "                            tf.keras.layers.Dense(hidden_layer_size, activation = 'relu'),\n",
    "                            tf.keras.layers.Dense(hidden_layer_size, activation = 'relu'),\n",
    "                            tf.keras.layers.Dense(output_size, activation = 'softmax'),\n",
    "                            ])\n",
    "\n",
    "model.compile(optimizer='adam', loss='sparse_categorical_crossentropy', metrics=['accuracy'])\n",
    "# 'sparse categorical crossentropy applies one-hot encoding to the targets'\n",
    "\n",
    "batch_size = 100\n",
    "max_epochs = 100\n",
    "\n",
    "early_stopping = tf.keras.callbacks.EarlyStopping()\n",
    "# this object will monitor the validation loss and stop the training process the first time the validation loss starts increasing\n",
    "# (patience) in the early stopping mechanism lets us decide how many consecutive increases we can tolerate\n",
    "# now we can be certain when the model starts to overfit (as a single increase may be due to chance)\n",
    "\n",
    "model.fit(train_inputs,\n",
    "         train_targets,\n",
    "         batch_size = batch_size,\n",
    "         epochs = max_epochs,\n",
    "         callbacks=[early_stopping],\n",
    "         validation_data = (validation_inputs, validation_targets),\n",
    "         verbose=2)\n",
    "# we could feed a 2-tuple object, or 2 simple arrays"
   ]
  },
  {
   "cell_type": "markdown",
   "metadata": {},
   "source": [
    "##### if we're given 10 customers and audiobook activity, we will be able to identify future customer bevahiour of around 8 of them\n",
    "###### as our validation accuracy is around 80%\n",
    "###### We have leveraged AI to reach a business insight!"
   ]
  },
  {
   "cell_type": "markdown",
   "metadata": {},
   "source": [
    "### Test the Model"
   ]
  },
  {
   "cell_type": "code",
   "execution_count": 4,
   "metadata": {},
   "outputs": [
    {
     "name": "stdout",
     "output_type": "stream",
     "text": [
      "14/14 [==============================] - 0s 1ms/step - loss: 0.3498 - accuracy: 0.7991\n"
     ]
    }
   ],
   "source": [
    "test_loss, test_accuracy = model.evaluate(test_inputs, test_targets)\n",
    "#model.evaluate() returns the loss value and metrics values for the model in 'test mode'"
   ]
  },
  {
   "cell_type": "code",
   "execution_count": 5,
   "metadata": {},
   "outputs": [
    {
     "name": "stdout",
     "output_type": "stream",
     "text": [
      "Test loss: 0.35. Test accuracy: 79.91%\n"
     ]
    }
   ],
   "source": [
    "# lets format it to make it appear neater and easier to read\n",
    "print('Test loss: {0:.2f}. Test accuracy: {1:.2f}%'.format(test_loss, test_accuracy*100.))"
   ]
  },
  {
   "cell_type": "code",
   "execution_count": 6,
   "metadata": {},
   "outputs": [],
   "source": [
    "# Test accuracy is close to the validation accuracy as we didn't fiddle with the hyperparameters too much"
   ]
  }
 ],
 "metadata": {
  "kernelspec": {
   "display_name": "Python [conda env:py3-TF2.0]",
   "language": "python",
   "name": "conda-env-py3-TF2.0-py"
  },
  "language_info": {
   "codemirror_mode": {
    "name": "ipython",
    "version": 3
   },
   "file_extension": ".py",
   "mimetype": "text/x-python",
   "name": "python",
   "nbconvert_exporter": "python",
   "pygments_lexer": "ipython3",
   "version": "3.8.5"
  }
 },
 "nbformat": 4,
 "nbformat_minor": 4
}
