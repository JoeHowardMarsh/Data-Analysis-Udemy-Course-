{
 "cells": [
  {
   "cell_type": "markdown",
   "metadata": {},
   "source": [
    "## Deep Neural Network for MNIST Classification"
   ]
  },
  {
   "cell_type": "markdown",
   "metadata": {},
   "source": [
    "##### Goal is to write an algorithm that detects which digit is handwritten\n",
    "##### Since there are 10 digits, the classification problem will have 10 classes\n",
    "##### Our goal will be to build a neural network with 2 hidden layers"
   ]
  },
  {
   "cell_type": "code",
   "execution_count": 1,
   "metadata": {},
   "outputs": [],
   "source": [
    "import numpy as np\n",
    "import tensorflow as tf\n",
    "\n",
    "import tensorflow_datasets as tfds"
   ]
  },
  {
   "cell_type": "markdown",
   "metadata": {},
   "source": [
    "#### Load the dataset"
   ]
  },
  {
   "cell_type": "code",
   "execution_count": 2,
   "metadata": {},
   "outputs": [],
   "source": [
    "mnist_dataset, mnist_info = tfds.load(name='mnist', with_info=True, as_supervised=True)\n",
    "# 'as_supervised' Loads the data in a 2-tuple structure (input and target)\n",
    "# 'with_info' provides a tuple containing info about the version, features and number of samples of the dataset"
   ]
  },
  {
   "cell_type": "markdown",
   "metadata": {},
   "source": [
    "### Pre-Processing the data"
   ]
  },
  {
   "cell_type": "code",
   "execution_count": 3,
   "metadata": {},
   "outputs": [],
   "source": [
    "# by default Tensorflow's mnist has training and testing datasets but no validation datasets so we have to split data ourselves\n",
    "\n",
    "mnist_dataset, mnist_info = tfds.load(name='mnist', with_info=True, as_supervised=True)\n",
    "\n",
    "mnist_train, mnist_test = mnist_dataset['train'], mnist_dataset['test']\n",
    "\n",
    "num_validation_samples = 0.1 * mnist_info.splits['train'].num_examples\n",
    "# creates validation dataset by the number of training samples divided by 10\n",
    "\n",
    "num_validation_samples = tf.cast(num_validation_samples, tf.int64)\n",
    "# tf.cast(x, datatype) converts the variable into a given data type to make sure validation dataset is an intager\n",
    "# preventing any potential issues caused by floats\n",
    "\n",
    "num_test_samples = mnist_info.splits['test'].num_examples\n",
    "num_test_samples = tf.cast(num_test_samples, tf.int64)\n",
    "# stores the number of test samples in a variable\n",
    "\n",
    "def scale(image, label):\n",
    "    image = tf.cast(image, tf.float32)\n",
    "    image /= 255.\n",
    "    return image, label\n",
    "# this function scales the data to make the result more numerically stable (e.g. inputs between 0 and 1)\n",
    "# on images, the matrix is made of intagers between 0 and 255, so we should convert this to floats between 0 and 1\n",
    "\n",
    "scaled_train_and_validation_data = mnist_train.map(scale)\n",
    "# dataset.map(function) applies a custom transformation to a given dataset.\n",
    "# It takes a function which determines the transformation as input"
   ]
  },
  {
   "cell_type": "markdown",
   "metadata": {},
   "source": [
    "### Shuffle the data"
   ]
  },
  {
   "cell_type": "code",
   "execution_count": 4,
   "metadata": {},
   "outputs": [],
   "source": [
    "BUFFER_SIZE = 10000\n",
    "# shuffling should be >= number of samples to happen uniformly\n",
    "shuffled_train_and_validation_data = scaled_train_and_validation_data.shuffle(BUFFER_SIZE)\n",
    "\n",
    "validation_data = shuffled_train_and_validation_data.take(num_validation_samples)\n",
    "train_data = shuffled_train_and_validation_data.skip(num_validation_samples)\n",
    "\n",
    "# batch size of 1 = Stochastic Gradient Descent (SGD)\n",
    "# batch size of # of samples = (single batch) GD\n",
    "# we want a batch size >1 but < # samples = mini-batch GD\n",
    "# Increasing batch size will increase completion speed but largely decrease accuracy of model\n",
    "BATCH_SIZE = 100\n",
    "train_data = train_data.batch(BATCH_SIZE)\n",
    "test_data = mnist_test.map(scale)\n",
    "\n",
    "\n",
    "# the model expects the validation dataset to be in batch-form too so we should override validation data with .batch\n",
    "validation_data = validation_data.batch(num_validation_samples)\n",
    "# same with the test data\n",
    "test_data = test_data.batch(num_test_samples)\n",
    "\n",
    "validation_inputs, validation_targets = next(iter(validation_data))\n",
    "# the function 'iter' creates an object which can be iterated one element at a time in a loop\n",
    "# 'next' loads the next batch (next element of an iterable object)"
   ]
  },
  {
   "cell_type": "markdown",
   "metadata": {},
   "source": [
    "### Model - outline the model"
   ]
  },
  {
   "cell_type": "code",
   "execution_count": 5,
   "metadata": {},
   "outputs": [],
   "source": [
    "input_size = 784\n",
    "output_size = 10\n",
    "hidden_layer_size = 200\n",
    "\n",
    "# the keras.sequential function is laying down the model used to stack layers\n",
    "# the keras.layers.Flatten function transforms a tensor into a vector\n",
    "# the keras.layers.Dense function takes inputs and finds the Dot product of inputs and weights and adds the bias\n",
    "# we also apply the activation function here\n",
    "model = tf.keras.Sequential([\n",
    "    tf.keras.layers.Flatten(input_shape=(28, 28, 1)),\n",
    "    tf.keras.layers.Dense(hidden_layer_size, activation='relu'),\n",
    "    tf.keras.layers.Dense(hidden_layer_size, activation='tanh'),\n",
    "    tf.keras.layers.Dense(hidden_layer_size, activation='sigmoid'),\n",
    "    tf.keras.layers.Dense(hidden_layer_size, activation='sigmoid'),\n",
    "    tf.keras.layers.Dense(hidden_layer_size, activation='sigmoid'),\n",
    "    tf.keras.layers.Dense(output_size, activation='softmax'),\n",
    "])"
   ]
  },
  {
   "cell_type": "markdown",
   "metadata": {},
   "source": [
    "### Choose the optimizer and Function Loss"
   ]
  },
  {
   "cell_type": "code",
   "execution_count": 6,
   "metadata": {},
   "outputs": [],
   "source": [
    "model.compile(optimizer='adam', loss='sparse_categorical_crossentropy', metrics=['accuracy'])\n",
    "# categorical_crossentropy expects that you've one-hot encoded the target data already\n",
    "# sparse_categorical_crossentropy applies the one-hot encoding\n",
    "# finally, the 3rd argument includes the 'metrics' we want to process throughout the training and testing processes\n",
    "# (in most cases, this is accuracy)"
   ]
  },
  {
   "cell_type": "markdown",
   "metadata": {},
   "source": [
    "### Training"
   ]
  },
  {
   "cell_type": "code",
   "execution_count": 7,
   "metadata": {},
   "outputs": [
    {
     "name": "stdout",
     "output_type": "stream",
     "text": [
      "Epoch 1/5\n",
      "540/540 - 6s - loss: 0.5251 - accuracy: 0.8499 - val_loss: 0.1740 - val_accuracy: 0.9537\n",
      "Epoch 2/5\n",
      "540/540 - 4s - loss: 0.1467 - accuracy: 0.9584 - val_loss: 0.1037 - val_accuracy: 0.9693\n",
      "Epoch 3/5\n",
      "540/540 - 4s - loss: 0.0960 - accuracy: 0.9720 - val_loss: 0.0871 - val_accuracy: 0.9750\n",
      "Epoch 4/5\n",
      "540/540 - 4s - loss: 0.0736 - accuracy: 0.9785 - val_loss: 0.0672 - val_accuracy: 0.9815\n",
      "Epoch 5/5\n",
      "540/540 - 4s - loss: 0.0572 - accuracy: 0.9828 - val_loss: 0.0644 - val_accuracy: 0.9822\n"
     ]
    },
    {
     "data": {
      "text/plain": [
       "<tensorflow.python.keras.callbacks.History at 0x23967c348e0>"
      ]
     },
     "execution_count": 7,
     "metadata": {},
     "output_type": "execute_result"
    }
   ],
   "source": [
    "num_epochs = 5\n",
    "# provide the model with the set number of epochs, validation inputs and targets,\n",
    "# set verbose to 2 to only include important info from each epoch\n",
    "model.fit(train_data, epochs = num_epochs, validation_data=(validation_inputs, validation_targets), verbose=2)"
   ]
  },
  {
   "cell_type": "code",
   "execution_count": 8,
   "metadata": {},
   "outputs": [],
   "source": [
    "# the training accuracy is just the average accuracy across batches whereas validation accuracy is of the whole validation set\n",
    "# the validation accuracy at the end of the last epoch is the True accuracy of the validation dataset.\n",
    "# almost there but not fully tested the accuracy of the model yet.\n",
    "# the final accuracy of the model comes from the forward propagation of the test dataset, not the validation one.\n",
    "# this is because we may be overfitting the validation dataset by fiddling with the hyperparameters\n",
    "# the test dataset makes sure our hyperparameters (width, depth, batch size, # epochs etc) don't overfit!"
   ]
  },
  {
   "cell_type": "markdown",
   "metadata": {},
   "source": [
    "### Test the Model"
   ]
  },
  {
   "cell_type": "code",
   "execution_count": 9,
   "metadata": {},
   "outputs": [
    {
     "name": "stdout",
     "output_type": "stream",
     "text": [
      "1/1 [==============================] - 1s 715ms/step - loss: 0.1057 - accuracy: 0.9693\n"
     ]
    }
   ],
   "source": [
    "test_loss, test_accuracy = model.evaluate(test_data)"
   ]
  },
  {
   "cell_type": "code",
   "execution_count": 10,
   "metadata": {},
   "outputs": [
    {
     "name": "stdout",
     "output_type": "stream",
     "text": [
      "Test loss: 0.11. Test accuracy: 96.93%\n"
     ]
    }
   ],
   "source": [
    "# lets format it to make it appear neater and easier to read\n",
    "print('Test loss: {0:.2f}. Test accuracy: {1:.2f}%'.format(test_loss, test_accuracy*100.))"
   ]
  },
  {
   "cell_type": "markdown",
   "metadata": {},
   "source": [
    "## important!\n",
    "#### after running the final test for the model, we're no longer allowed to change it as...\n",
    "#### ... if it is changed it will no longer be a dataset the model has never seen (as it has seen it)"
   ]
  },
  {
   "cell_type": "code",
   "execution_count": 11,
   "metadata": {},
   "outputs": [],
   "source": [
    "# Getting a test accuracy very close to the validation accuracy shows that we have not overfit!\n",
    "# this accuracy is the accuracy expected to get if we test the model in the real world."
   ]
  }
 ],
 "metadata": {
  "kernelspec": {
   "display_name": "Python [conda env:py3-TF2.0]",
   "language": "python",
   "name": "conda-env-py3-TF2.0-py"
  },
  "language_info": {
   "codemirror_mode": {
    "name": "ipython",
    "version": 3
   },
   "file_extension": ".py",
   "mimetype": "text/x-python",
   "name": "python",
   "nbconvert_exporter": "python",
   "pygments_lexer": "ipython3",
   "version": "3.8.5"
  }
 },
 "nbformat": 4,
 "nbformat_minor": 4
}
