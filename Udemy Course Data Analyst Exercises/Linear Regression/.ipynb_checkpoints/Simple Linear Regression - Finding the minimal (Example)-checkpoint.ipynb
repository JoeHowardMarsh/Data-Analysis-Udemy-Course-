{
 "cells": [
  {
   "cell_type": "code",
   "execution_count": 1,
   "metadata": {},
   "outputs": [],
   "source": [
    "import numpy as np      # Mathematical operations\n",
    "import matplotlib.pyplot as plt         # Nice graphs\n",
    "from mpl_toolkits.mplot3d import Axes3D        # 3D graphs"
   ]
  },
  {
   "cell_type": "markdown",
   "metadata": {},
   "source": [
    "## Generate random input data to train on"
   ]
  },
  {
   "cell_type": "code",
   "execution_count": 2,
   "metadata": {},
   "outputs": [
    {
     "name": "stdout",
     "output_type": "stream",
     "text": [
      "(1000, 2)\n"
     ]
    }
   ],
   "source": [
    "# creating fake data with a linear relationship\n",
    "observations = 1000\n",
    "xs = np.random.uniform(low=-10,high=10,size=(observations,1))\n",
    "zs = np.random.uniform(-10,10,(observations,1))\n",
    "\n",
    "inputs = np.column_stack((xs,zs))\n",
    "print(inputs.shape)"
   ]
  },
  {
   "cell_type": "markdown",
   "metadata": {},
   "source": [
    "## Create the targets we will aim at"
   ]
  },
  {
   "cell_type": "code",
   "execution_count": 3,
   "metadata": {},
   "outputs": [
    {
     "name": "stdout",
     "output_type": "stream",
     "text": [
      "(1000, 1)\n"
     ]
    }
   ],
   "source": [
    "noise = np.random.uniform(-1,1,(observations,1))\n",
    "\n",
    "targets = 2*xs - 3*zs +5 + noise\n",
    "\n",
    "print(targets.shape)"
   ]
  },
  {
   "cell_type": "markdown",
   "metadata": {},
   "source": [
    "## Plot the training data\n",
    "##### the point here is to see that there is a strong trend that our model should learn to reproduce"
   ]
  },
  {
   "cell_type": "code",
   "execution_count": 4,
   "metadata": {},
   "outputs": [
    {
     "data": {
      "image/png": "[encoded data removed]",
      "text/plain": [
       "<Figure size 432x288 with 1 Axes>"
      ]
     },
     "metadata": {
      "needs_background": "light"
     },
     "output_type": "display_data"
    }
   ],
   "source": [
    "targets = targets.reshape(observations,)\n",
    "fig = plt.figure()\n",
    "ax = fig.add_subplot(111, projection='3d')\n",
    "xs = xs.reshape(observations,)\n",
    "zs = zs.reshape(observations,)\n",
    "ax.plot(xs, zs, targets)\n",
    "ax.set_xlabel('xs')\n",
    "ax.set_ylabel('zs')\n",
    "ax.set_zlabel('Targets')\n",
    "ax.view_init(azim=100)\n",
    "plt.show()\n",
    "targets = targets.reshape(observations,1)"
   ]
  },
  {
   "cell_type": "markdown",
   "metadata": {},
   "source": [
    "### Initialize variables"
   ]
  },
  {
   "cell_type": "code",
   "execution_count": 5,
   "metadata": {},
   "outputs": [
    {
     "name": "stdout",
     "output_type": "stream",
     "text": [
      "[[-0.07463841]\n",
      " [-0.09981117]]\n",
      "[0.04483748]\n"
     ]
    }
   ],
   "source": [
    "# this will be the radius of the range we will use to initialize the weights and the biases\n",
    "# the weights will be picked randomly from the range -0.1 to 0.1\n",
    "init_range = 0.1\n",
    "\n",
    "weights = np.random.uniform(-init_range, init_range, size=(2,1))\n",
    "\n",
    "biases = np.random.uniform(-init_range, init_range, size=1)\n",
    "# in machine learning, there are as many biases as there are outputs!\n",
    "print(weights)\n",
    "print(biases)"
   ]
  },
  {
   "cell_type": "markdown",
   "metadata": {},
   "source": [
    "### Set a learning rate"
   ]
  },
  {
   "cell_type": "code",
   "execution_count": 6,
   "metadata": {},
   "outputs": [],
   "source": [
    "learning_rate = 0.02\n",
    "# Change this rate to optimize algorithm to reach minimum fast but not too fast that it oscillates forever"
   ]
  },
  {
   "cell_type": "markdown",
   "metadata": {},
   "source": [
    "### Train the model"
   ]
  },
  {
   "cell_type": "code",
   "execution_count": 9,
   "metadata": {},
   "outputs": [
    {
     "name": "stdout",
     "output_type": "stream",
     "text": [
      "0.3879860409682994\n",
      "0.3794077184333668\n",
      "0.3711689672985372\n",
      "0.36325634568921483\n",
      "0.35565694382506147\n",
      "0.3483583629571406\n",
      "0.3413486951388276\n",
      "0.33461650379748736\n",
      "0.3281508050752151\n",
      "0.3219410499082044\n",
      "0.3159771068154981\n",
      "0.3102492453690437\n",
      "0.3047481203180861\n",
      "0.29946475634198755\n",
      "0.2943905334066134\n",
      "0.28951717270037397\n",
      "0.28483672312699115\n",
      "0.28034154833294683\n",
      "0.27602431424844187\n",
      "0.27187797712155115\n",
      "0.2678957720260387\n",
      "0.2640712018240944\n",
      "0.2603980265659726\n",
      "0.2568702533092496\n",
      "0.2534821263410823\n",
      "0.2502281177875147\n",
      "0.24710291859451688\n",
      "0.2441014298660353\n",
      "0.24121875454492786\n",
      "0.23845018942320315\n",
      "0.23579121746853832\n",
      "0.2332375004545456\n",
      "0.2307848718827719\n",
      "0.22842933018487854\n",
      "0.2261670321939104\n",
      "0.22399428687400527\n",
      "0.22190754929831163\n",
      "0.21990341486528867\n",
      "0.21797861374395328\n",
      "0.21613000553901046\n",
      "0.21435457416716505\n",
      "0.2126494229362531\n",
      "0.21101176981916364\n",
      "0.20943894291484338\n",
      "0.20792837608897669\n",
      "0.20647760478722513\n",
      "0.20508426201420538\n",
      "0.20374607447163195\n",
      "0.20246085884933598\n",
      "0.20122651826309995\n",
      "0.20004103883350222\n",
      "0.19890248640018648\n",
      "0.19780900336619647\n",
      "0.1967588056672277\n",
      "0.1957501798608485\n",
      "0.1947814803309482\n",
      "0.19385112660284187\n",
      "0.19295760076465873\n",
      "0.19209944499080528\n",
      "0.19127525916345928\n",
      "0.19048369858821812\n",
      "0.189723471800172\n",
      "0.18899333845682453\n",
      "0.18829210731442078\n",
      "0.18761863428438136\n",
      "0.18697182056667375\n",
      "0.18635061085707316\n",
      "0.18575399162538783\n",
      "0.1851809894618425\n",
      "0.18463066948891715\n",
      "0.1841021338360557\n",
      "0.1835945201747509\n",
      "0.18310700031161928\n",
      "0.1826387788371676\n",
      "0.18218909182804885\n",
      "0.18175720560068825\n",
      "0.18134241551424735\n",
      "0.18094404482097176\n",
      "0.1805614435620496\n",
      "0.1801939875071744\n",
      "0.17984107713608793\n",
      "0.17950213666043655\n",
      "0.17917661308434807\n",
      "0.17886397530219522\n",
      "0.17856371323207448\n",
      "0.17827533698358536\n",
      "0.17799837605855345\n",
      "0.17773237858339241\n",
      "0.17747691057185255\n",
      "0.17723155521695508\n",
      "0.17699591221095137\n",
      "0.17676959709220633\n",
      "0.17655224061793104\n",
      "0.17634348816174797\n",
      "0.17614299913510265\n",
      "0.17595044643157973\n",
      "0.1757655158932136\n",
      "0.17558790579792696\n",
      "0.17541732636725835\n",
      "0.17525349929357617\n"
     ]
    }
   ],
   "source": [
    "# Plan for each iteration - calculate outputs, compare the outputs to targets through the loss, print the loss,\n",
    "# adjust the weights and biases, recalculate outputs etc...\n",
    "\n",
    "for i in range(100):\n",
    "    outputs = np.dot(inputs, weights) + biases\n",
    "    deltas = outputs - targets\n",
    "    loss = np.sum(deltas ** 2) / 2 / observations\n",
    "    print(loss)\n",
    "    deltas_scaled = deltas / observations\n",
    "    weights = weights - learning_rate * np.dot(inputs.T,deltas_scaled)\n",
    "    biases = biases - learning_rate * np.sum(deltas_scaled)"
   ]
  },
  {
   "cell_type": "markdown",
   "metadata": {},
   "source": [
    "### Print weights and biases and see if we have worked correctly"
   ]
  },
  {
   "cell_type": "code",
   "execution_count": 10,
   "metadata": {},
   "outputs": [
    {
     "name": "stdout",
     "output_type": "stream",
     "text": [
      "[[ 2.00214263]\n",
      " [-3.00088434]] [4.92380588]\n"
     ]
    }
   ],
   "source": [
    "print(weights, biases)"
   ]
  },
  {
   "cell_type": "markdown",
   "metadata": {},
   "source": [
    "### Plot last outputs vs targets\n",
    "##### As they are the last ones at the end of the training, they represent the final accuracy of the model\n",
    "##### The closer this is to a 45 degree line, the closer target and output values are (more accurate model)"
   ]
  },
  {
   "cell_type": "code",
   "execution_count": 11,
   "metadata": {},
   "outputs": [
    {
     "data": {
      "image/png": "[encoded data removed]",
      "text/plain": [
       "<Figure size 432x288 with 1 Axes>"
      ]
     },
     "metadata": {
      "needs_background": "light"
     },
     "output_type": "display_data"
    }
   ],
   "source": [
    "plt.plot(outputs,targets)\n",
    "plt.xlabel('outputs')\n",
    "plt.ylabel('targets')\n",
    "plt.show()"
   ]
  },
  {
   "cell_type": "code",
   "execution_count": null,
   "metadata": {},
   "outputs": [],
   "source": []
  }
 ],
 "metadata": {
  "kernelspec": {
   "display_name": "Python 3",
   "language": "python",
   "name": "python3"
  },
  "language_info": {
   "codemirror_mode": {
    "name": "ipython",
    "version": 3
   },
   "file_extension": ".py",
   "mimetype": "text/x-python",
   "name": "python",
   "nbconvert_exporter": "python",
   "pygments_lexer": "ipython3",
   "version": "3.8.5"
  }
 },
 "nbformat": 4,
 "nbformat_minor": 4
}
