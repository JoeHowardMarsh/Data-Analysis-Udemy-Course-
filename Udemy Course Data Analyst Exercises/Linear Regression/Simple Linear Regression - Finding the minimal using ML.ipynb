{
 "cells": [
  {
   "cell_type": "markdown",
   "metadata": {},
   "source": [
    "## Find the minimal of Randomly Generated Data"
   ]
  },
  {
   "cell_type": "code",
   "execution_count": 1,
   "metadata": {},
   "outputs": [],
   "source": [
    "import numpy as np\n",
    "import matplotlib.pyplot as plt\n",
    "from mpl_toolkits.mplot3d import Axes3D\n",
    "\n",
    "# Numpy library has functions used for working with arrays and matrices\n",
    "# faster, clearer and better quality code using Numpy\n",
    "\n",
    "# Matplotlib is a 2D plotting library for visualising data in Python\n",
    "# mpl_toolkits.mplot3d is a module for making 3D graphs"
   ]
  },
  {
   "cell_type": "markdown",
   "metadata": {},
   "source": [
    "## Generate random input data to train on"
   ]
  },
  {
   "cell_type": "code",
   "execution_count": 2,
   "metadata": {},
   "outputs": [
    {
     "name": "stdout",
     "output_type": "stream",
     "text": [
      "(10000, 2)\n"
     ]
    }
   ],
   "source": [
    "observations = 10000\n",
    "xs = np.random.uniform(low=-10,high=10,size=(observations,1))\n",
    "zs = np.random.uniform(-10,10,(observations,1))\n",
    "\n",
    "inputs = np.column_stack((xs,zs))\n",
    "print(inputs.shape)\n",
    "\n",
    "# using randomly generated data will allow us to rerun the algorithm with new inputs each time\n",
    "# the number of observations affect the speed of the algorithm (using 10000 currently)\n",
    "\n",
    "# then the generated data is put into a dataframe called 'inputs'"
   ]
  },
  {
   "cell_type": "markdown",
   "metadata": {},
   "source": [
    "## Create the targets we will aim at"
   ]
  },
  {
   "cell_type": "code",
   "execution_count": 3,
   "metadata": {},
   "outputs": [
    {
     "name": "stdout",
     "output_type": "stream",
     "text": [
      "(10000, 1)\n"
     ]
    }
   ],
   "source": [
    "noise = np.random.uniform(-1,1,(observations,1))\n",
    "targets = 2*xs - 3*zs +5 + noise\n",
    "print(targets.shape)\n",
    "\n",
    "# using randomly generated targets to be sure there's a linear relationship\n",
    "# this is the function the algorithm must learn in order to predict the output\n",
    "# the weights are 2, -3 and the bias is 5.\n",
    "# the targets are the combination of vectors (10,000 by 1)"
   ]
  },
  {
   "cell_type": "markdown",
   "metadata": {},
   "source": [
    "## Plot the training data\n",
    "##### the point here is to have a strong trend that our model should learn to reproduce"
   ]
  },
  {
   "cell_type": "code",
   "execution_count": 4,
   "metadata": {},
   "outputs": [
    {
     "data": {
      "image/png": "[encoded data removed]",
      "text/plain": [
       "<Figure size 432x288 with 1 Axes>"
      ]
     },
     "metadata": {
      "needs_background": "light"
     },
     "output_type": "display_data"
    }
   ],
   "source": [
    "targets = targets.reshape(observations,)\n",
    "fig = plt.figure()\n",
    "ax = fig.add_subplot(111, projection='3d')\n",
    "xs = xs.reshape(observations,)\n",
    "zs = zs.reshape(observations,)\n",
    "ax.plot(xs, zs, targets)\n",
    "ax.set_xlabel('xs')\n",
    "ax.set_ylabel('zs')\n",
    "ax.set_zlabel('Targets')\n",
    "ax.view_init(azim=100)\n",
    "plt.show()\n",
    "targets = targets.reshape(observations,1)\n",
    "\n",
    "# this 3D plot visualises the strong linear relationship"
   ]
  },
  {
   "cell_type": "markdown",
   "metadata": {},
   "source": [
    "### Initialize variables"
   ]
  },
  {
   "cell_type": "code",
   "execution_count": 5,
   "metadata": {},
   "outputs": [
    {
     "name": "stdout",
     "output_type": "stream",
     "text": [
      "[[-0.06874514]\n",
      " [ 0.09126018]]\n",
      "[-0.09188771]\n"
     ]
    }
   ],
   "source": [
    "init_range = 0.1\n",
    "\n",
    "weights = np.random.uniform(-init_range, init_range, size=(2,1))\n",
    "\n",
    "biases = np.random.uniform(-init_range, init_range, size=1)\n",
    "\n",
    "print(weights)\n",
    "print(biases)\n",
    "\n",
    "# \"init_range\" will be the radius of the range we will use to initialize the weights and the biases\n",
    "# the weights will be picked randomly from the range -0.1 to 0.1, the size of the weights matrix is 2 by 1 as we have 2 variables\n",
    "# in machine learning, there are as many biases as there are outputs, each bias refers to an output"
   ]
  },
  {
   "cell_type": "markdown",
   "metadata": {},
   "source": [
    "### Set a learning rate"
   ]
  },
  {
   "cell_type": "code",
   "execution_count": 6,
   "metadata": {},
   "outputs": [],
   "source": [
    "learning_rate = 0.02\n",
    "# Change this rate to optimize algorithm to reach minimum fast\n",
    "# but not too fast that it oscillates around the minimum indefinitly"
   ]
  },
  {
   "cell_type": "markdown",
   "metadata": {},
   "source": [
    "### Train the model"
   ]
  },
  {
   "cell_type": "code",
   "execution_count": 10,
   "metadata": {},
   "outputs": [
    {
     "name": "stdout",
     "output_type": "stream",
     "text": [
      "0.39221592842305775\n",
      "0.38320238131835105\n",
      "0.3745457481289336\n",
      "0.3662318959566862\n",
      "0.35824725153089676\n",
      "0.35057877904841617\n",
      "0.3432139588912874\n",
      "0.3361407671871025\n",
      "0.32934765617871986\n",
      "0.3228235353712901\n",
      "0.31655775342581544\n",
      "0.3105400807696718\n",
      "0.3047606928957221\n",
      "0.2992101543227312\n",
      "0.29387940319091405\n",
      "0.2887597364674652\n",
      "0.2838427957379021\n",
      "0.2791205535600471\n",
      "0.27458530035834805\n",
      "0.27022963183715737\n",
      "0.2660464368924115\n",
      "0.26202888600197655\n",
      "0.2581704200757095\n",
      "0.25446473974702793\n",
      "0.2509057950885056\n",
      "0.24748777573470648\n",
      "0.24420510139613044\n",
      "0.2410524127487804\n",
      "0.23802456268448144\n",
      "0.235116607907665\n",
      "0.2323238008649003\n",
      "0.22964158199399576\n",
      "0.22706557228001392\n",
      "0.2245915661060549\n",
      "0.22221552438712605\n",
      "0.21993356797589445\n",
      "0.21774197132955786\n",
      "0.21563715642748876\n",
      "0.21361568692972369\n",
      "0.21167426256676536\n",
      "0.20980971375153248\n",
      "0.20801899640466173\n",
      "0.20629918698471725\n",
      "0.20464747771519043\n",
      "0.2030611720004968\n",
      "0.20153768002349196\n",
      "0.20007451451730993\n",
      "0.19866928670463102\n",
      "0.19731970239774055\n",
      "0.19602355825301834\n",
      "0.1947787381737388\n",
      "0.19358320985531277\n",
      "0.19243502146732808\n",
      "0.1913322984669747\n",
      "0.1902732405386469\n",
      "0.18925611865473396\n",
      "0.1882792722527925\n",
      "0.18734110652449745\n",
      "0.18644008981194365\n",
      "0.1855747511070467\n",
      "0.18474367764996272\n",
      "0.18394551262260278\n",
      "0.18317895293348024\n",
      "0.1824427470902708\n",
      "0.1817356931566158\n",
      "0.18105663678982878\n",
      "0.18040446935630575\n",
      "0.17977812612156036\n",
      "0.17917658451192797\n",
      "0.17859886244510242\n",
      "0.17804401672678033\n",
      "0.17751114151079295\n",
      "0.1769993668202136\n",
      "0.17650785712702535\n",
      "0.17603580998803026\n",
      "0.17558245473477366\n",
      "0.17514705121534366\n",
      "0.17472888858599217\n",
      "0.17432728415060536\n",
      "0.17394158224612755\n",
      "0.17357115317211938\n",
      "0.17321539216270412\n",
      "0.17287371839922003\n",
      "0.17254557406197188\n",
      "0.1722304234195286\n",
      "0.1719277519540833\n",
      "0.17163706552144747\n",
      "0.1713578895443058\n",
      "0.1710897682374176\n",
      "0.17083226386349726\n",
      "0.17058495601856072\n",
      "0.17034744094556997\n",
      "0.1701193308752553\n",
      "0.1699002533930402\n",
      "0.1696898508310337\n",
      "0.16948777968409823\n",
      "0.1692937100490407\n",
      "0.16910732508600862\n",
      "0.1689283205012156\n",
      "0.16875640405014738\n"
     ]
    }
   ],
   "source": [
    "for i in range(100):\n",
    "    outputs = np.dot(inputs, weights) + biases\n",
    "    deltas = outputs - targets\n",
    "    loss = np.sum(deltas ** 2) / 2 / observations\n",
    "    print(loss)\n",
    "    deltas_scaled = deltas / observations\n",
    "    weights = weights - learning_rate * np.dot(inputs.T,deltas_scaled)\n",
    "    biases = biases - learning_rate * np.sum(deltas_scaled)\n",
    "    \n",
    "# Plan for each iteration of this function - calculate outputs, compare the outputs to targets through the loss, print the loss,\n",
    "# adjust the weights and biases, recalculate outputs, re-iterate\n",
    "# ouput = input * weight + biases\n",
    "# Deltas are the difference between the outputs and the targets\n",
    "# then the loss function is calculated\n"
   ]
  },
  {
   "cell_type": "markdown",
   "metadata": {},
   "source": [
    "### Print weights and biases and see if we have worked correctly"
   ]
  },
  {
   "cell_type": "code",
   "execution_count": 11,
   "metadata": {},
   "outputs": [
    {
     "name": "stdout",
     "output_type": "stream",
     "text": [
      "[[ 2.00010226]\n",
      " [-3.00167677]] [4.90100949]\n"
     ]
    }
   ],
   "source": [
    "print(weights, biases)\n",
    "# the loss function has been minimized with respect to the weights and biases\n",
    "# this linear function fits the model well\n",
    "# the weights seem about right (close to 2 and -3)\n",
    "# the bias is a bit off originally as we used too few iterations or inappropriate learning rate (was around 3.5)\n",
    "# after re-running the algorithm above, now our weight is much closer to 5 (4.9)\n",
    "# the bias improves when we increase the number of iterations"
   ]
  },
  {
   "cell_type": "markdown",
   "metadata": {},
   "source": [
    "### Plot last outputs vs targets\n",
    "##### As they are the last ones at the end of the training, they represent the final accuracy of the model"
   ]
  },
  {
   "cell_type": "code",
   "execution_count": 12,
   "metadata": {},
   "outputs": [
    {
     "data": {
      "image/png": "[encoded data removed]",
      "text/plain": [
       "<Figure size 432x288 with 1 Axes>"
      ]
     },
     "metadata": {
      "needs_background": "light"
     },
     "output_type": "display_data"
    }
   ],
   "source": [
    "plt.plot(outputs,targets)\n",
    "plt.xlabel('outputs')\n",
    "plt.ylabel('targets')\n",
    "plt.show()\n",
    "# this plots the outputs\n",
    "# The closer the line is to a 45 degree line, the closer target and output values are (more accurate model)"
   ]
  },
  {
   "cell_type": "code",
   "execution_count": null,
   "metadata": {},
   "outputs": [],
   "source": []
  }
 ],
 "metadata": {
  "kernelspec": {
   "display_name": "Python 3",
   "language": "python",
   "name": "python3"
  },
  "language_info": {
   "codemirror_mode": {
    "name": "ipython",
    "version": 3
   },
   "file_extension": ".py",
   "mimetype": "text/x-python",
   "name": "python",
   "nbconvert_exporter": "python",
   "pygments_lexer": "ipython3",
   "version": "3.8.5"
  }
 },
 "nbformat": 4,
 "nbformat_minor": 4
}
